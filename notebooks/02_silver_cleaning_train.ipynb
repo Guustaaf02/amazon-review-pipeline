{
 "cells": [
  {
   "cell_type": "code",
   "execution_count": 1,
   "id": "d11aebb6-602c-427f-8545-0a5978a96230",
   "metadata": {},
   "outputs": [],
   "source": [
    "from pyspark.sql import SparkSession\n",
    "from pyspark.sql.functions import col, lower, regexp_replace, trim, when\n",
    "from pyspark.sql.types import IntegerType"
   ]
  },
  {
   "cell_type": "code",
   "execution_count": 2,
   "id": "a78fe171-3ce5-4962-92d9-c787dc1a30cd",
   "metadata": {},
   "outputs": [
    {
     "name": "stderr",
     "output_type": "stream",
     "text": [
      "Setting default log level to \"WARN\".\n",
      "To adjust logging level use sc.setLogLevel(newLevel). For SparkR, use setLogLevel(newLevel).\n",
      "25/05/15 01:36:08 WARN NativeCodeLoader: Unable to load native-hadoop library for your platform... using builtin-java classes where applicable\n"
     ]
    }
   ],
   "source": [
    "spark = SparkSession.builder \\\n",
    "    .appName(\"AmazonReviewsSilver\") \\\n",
    "    .config(\"spark.driver.memory\", \"6g\") \\\n",
    "    .config(\"spark.executor.memory\", \"6g\") \\\n",
    "    .getOrCreate()"
   ]
  },
  {
   "cell_type": "code",
   "execution_count": 3,
   "id": "b3c72e53-a16d-4745-b921-92522f4fc70e",
   "metadata": {
    "scrolled": true
   },
   "outputs": [
    {
     "name": "stderr",
     "output_type": "stream",
     "text": [
      "                                                                                "
     ]
    }
   ],
   "source": [
    "#Carrega o Parquet\n",
    "df = spark.read.format(\"parquet\").load(\"/app/data/bronze/train_bronze\")\n",
    "df= df.toDF(\"label\",\"title\",\"review\")\n"
   ]
  },
  {
   "cell_type": "code",
   "execution_count": 4,
   "id": "2a22b059-5666-428a-852c-ca9763ca529a",
   "metadata": {},
   "outputs": [],
   "source": [
    "#Converter label para inteiro e tratar valores inválidos\n",
    "df = df.withColumn(\"label\",col(\"label\").cast(IntegerType()))\n",
    "df = df.filter(col(\"label\").isin([1,2]))\n"
   ]
  },
  {
   "cell_type": "code",
   "execution_count": 5,
   "id": "5d2b160e-4b15-4562-b65e-192e62640236",
   "metadata": {
    "scrolled": true
   },
   "outputs": [],
   "source": [
    "#Tratar valores nulos: remover linhas que tiverem title ou review Nulos\n",
    "df = df.filter(col(\"title\").isNotNull() & col(\"review\").isNotNull())\n",
    "               "
   ]
  },
  {
   "cell_type": "code",
   "execution_count": 6,
   "id": "d2a86081-e219-426d-8297-57bb15190261",
   "metadata": {
    "scrolled": true
   },
   "outputs": [],
   "source": [
    "#Limpeza básica de texto: tirar quebras de linha, aspas duplicadas e espaços\n",
    "\n",
    "df = df.withColumn(\"title\", trim(regexp_replace(col(\"title\"), r'\\\\n|\"', '')))\n",
    "df = df.withColumn(\"review\", trim(regexp_replace(col(\"review\"), r'\\\\n|\"', '')))"
   ]
  },
  {
   "cell_type": "code",
   "execution_count": 7,
   "id": "e771e4d2-8c93-4c9f-9c50-1b21c1b7fba3",
   "metadata": {},
   "outputs": [
    {
     "name": "stderr",
     "output_type": "stream",
     "text": [
      "                                                                                "
     ]
    }
   ],
   "source": [
    "#Salva na camada Silver\n",
    "df.write.mode(\"overwrite\").format(\"parquet\").save(\"/app/data/silver/train_silver\")\n"
   ]
  },
  {
   "cell_type": "code",
   "execution_count": 8,
   "id": "78600cb6-7152-4aec-97a8-f092c91891a3",
   "metadata": {
    "scrolled": true
   },
   "outputs": [],
   "source": [
    "spark.stop()\n"
   ]
  },
  {
   "cell_type": "code",
   "execution_count": null,
   "id": "cccd7a8e-a2d4-4e14-ab13-337b78b8af60",
   "metadata": {},
   "outputs": [],
   "source": []
  },
  {
   "cell_type": "code",
   "execution_count": null,
   "id": "557adbe8-7a73-428a-828f-8a49eca2e41b",
   "metadata": {},
   "outputs": [],
   "source": []
  }
 ],
 "metadata": {
  "kernelspec": {
   "display_name": "Python 3 (ipykernel)",
   "language": "python",
   "name": "python3"
  },
  "language_info": {
   "codemirror_mode": {
    "name": "ipython",
    "version": 3
   },
   "file_extension": ".py",
   "mimetype": "text/x-python",
   "name": "python",
   "nbconvert_exporter": "python",
   "pygments_lexer": "ipython3",
   "version": "3.9.2"
  }
 },
 "nbformat": 4,
 "nbformat_minor": 5
}
