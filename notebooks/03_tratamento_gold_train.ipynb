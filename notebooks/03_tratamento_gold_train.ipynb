{
 "cells": [
  {
   "cell_type": "code",
   "execution_count": 1,
   "id": "723290bb-4be5-4616-b92e-46a511de7076",
   "metadata": {},
   "outputs": [],
   "source": [
    "from pyspark.sql import SparkSession\n",
    "from pyspark.sql.functions import col,when, monotonically_increasing_id, size, split, length"
   ]
  },
  {
   "cell_type": "code",
   "execution_count": 2,
   "id": "199e7f8e-6f17-4c97-8a7c-27f97fe149b1",
   "metadata": {},
   "outputs": [
    {
     "name": "stderr",
     "output_type": "stream",
     "text": [
      "Setting default log level to \"WARN\".\n",
      "To adjust logging level use sc.setLogLevel(newLevel). For SparkR, use setLogLevel(newLevel).\n",
      "25/05/16 01:45:06 WARN NativeCodeLoader: Unable to load native-hadoop library for your platform... using builtin-java classes where applicable\n",
      "25/05/16 01:45:07 WARN Utils: Service 'SparkUI' could not bind on port 4040. Attempting port 4041.\n"
     ]
    },
    {
     "name": "stdout",
     "output_type": "stream",
     "text": [
      "SparkSession iniciando para a Camada Gold.\n"
     ]
    }
   ],
   "source": [
    "spark= SparkSession.builder\\\n",
    "        .appName(\"AmazonReviewsGold\")\\\n",
    "        .config(\"spark.driver.memory\", \"6g\")\\\n",
    "        .config(\"spark.executor.memory\", \"6g\")\\\n",
    "        .getOrCreate()\n",
    "\n",
    "print(\"SparkSession iniciando para a Camada Gold.\")"
   ]
  },
  {
   "cell_type": "code",
   "execution_count": 3,
   "id": "772cc8c2-7dca-4100-b3de-eb28f5189f9c",
   "metadata": {
    "scrolled": true
   },
   "outputs": [
    {
     "name": "stdout",
     "output_type": "stream",
     "text": [
      "Carregando dados da camada Silver de:/app/data/silver/train_silver\n"
     ]
    },
    {
     "name": "stderr",
     "output_type": "stream",
     "text": [
      "                                                                                "
     ]
    },
    {
     "name": "stdout",
     "output_type": "stream",
     "text": [
      "Schema da tabela Silver carregada:\n",
      "root\n",
      " |-- label: integer (nullable = true)\n",
      " |-- title: string (nullable = true)\n",
      " |-- review: string (nullable = true)\n",
      "\n"
     ]
    }
   ],
   "source": [
    "silver_path=\"/app/data/silver/train_silver\"\n",
    "\n",
    "print(f\"Carregando dados da camada Silver de:{silver_path}\")\n",
    "df_silver= spark.read.format(\"parquet\").load(silver_path)\n",
    "\n",
    "print(\"Schema da tabela Silver carregada:\")\n",
    "df_silver.printSchema()"
   ]
  },
  {
   "cell_type": "code",
   "execution_count": 4,
   "id": "b035d492-e755-42dd-a5be-cf1858e62858",
   "metadata": {
    "scrolled": true
   },
   "outputs": [],
   "source": [
    "#Criando DataFrame de trabalho para o Gold a partir da Silver\n",
    "df_gold =df_silver\n",
    "#Gerando um id para cada review ter seu rastreio11\n",
    "df_gold = df_gold.withColumn(\"review_id\", monotonically_increasing_id())\n"
   ]
  },
  {
   "cell_type": "code",
   "execution_count": 5,
   "id": "dc91731b-75b7-4dd3-9643-8bae1cf77f2a",
   "metadata": {},
   "outputs": [],
   "source": [
    "#Criando sentiment_description 1 para ruim 2 para bom\n",
    "df_gold = df_gold.withColumn(\"sentiment_description\", when(col(\"label\") == 1, \"Ruim\").when(col(\"label\") == 2, \"Bom\").otherwise(\"Desconhecido\"))\n"
   ]
  },
  {
   "cell_type": "code",
   "execution_count": 6,
   "id": "1b1b7f05-9c1d-4e8b-8c3e-e3b9ee24aec0",
   "metadata": {},
   "outputs": [],
   "source": [
    "#Calcular contagens de caracteres para para saber como é o padrão de comentarios bons e ruins\n",
    "df_gold = df_gold.withColumn(\"title_char_count\", length(col(\"title\")))\n",
    "df_gold = df_gold.withColumn(\"review_char_count\", length(col(\"review\")))\n"
   ]
  },
  {
   "cell_type": "code",
   "execution_count": 7,
   "id": "f929f4df-92b6-41bf-9c30-34b69eb9e75a",
   "metadata": {},
   "outputs": [
    {
     "name": "stdout",
     "output_type": "stream",
     "text": [
      "Schema da tabela Gold final:\n",
      "root\n",
      " |-- review_id: long (nullable = false)\n",
      " |-- sentiment_label_id: integer (nullable = true)\n",
      " |-- sentiment_description: string (nullable = false)\n",
      " |-- cleaned_title: string (nullable = true)\n",
      " |-- cleaned_review: string (nullable = true)\n",
      " |-- title_char_count: integer (nullable = true)\n",
      " |-- review_char_count: integer (nullable = true)\n",
      "\n",
      "Amostra da tabela Gold final (primeiras 5 linhas):\n"
     ]
    },
    {
     "name": "stderr",
     "output_type": "stream",
     "text": [
      "                                                                                "
     ]
    },
    {
     "name": "stdout",
     "output_type": "stream",
     "text": [
      "+---------+------------------+---------------------+--------------------+--------------------+----------------+-----------------+\n",
      "|review_id|sentiment_label_id|sentiment_description|       cleaned_title|      cleaned_review|title_char_count|review_char_count|\n",
      "+---------+------------------+---------------------+--------------------+--------------------+----------------+-----------------+\n",
      "|        0|                 2|                  Bom|Stuning even for ...|This sound track ...|              30|              394|\n",
      "|        1|                 2|                  Bom|The best soundtra...|I'm reading a lot...|              37|              470|\n",
      "|        2|                 2|                  Bom|            Amazing!|This soundtrack i...|               8|              353|\n",
      "|        3|                 2|                  Bom|Excellent Soundtrack|I truly like this...|              20|              721|\n",
      "|        4|                 2|                  Bom|Remember, Pull Yo...|If you've played ...|              54|              425|\n",
      "+---------+------------------+---------------------+--------------------+--------------------+----------------+-----------------+\n",
      "only showing top 5 rows\n",
      "\n"
     ]
    }
   ],
   "source": [
    "df_gold_final = df_gold.select(col(\"review_id\"), col(\"label\").alias(\"sentiment_label_id\"), col(\"sentiment_description\"), col(\"title\").alias(\"cleaned_title\"), col(\"review\").alias(\"cleaned_review\"),col(\"title_char_count\"),col(\"review_char_count\"))\n",
    "\n",
    "print(\"Schema da tabela Gold final:\")\n",
    "df_gold_final.printSchema()\n",
    "print(\"Amostra da tabela Gold final (primeiras 5 linhas):\")\n",
    "df_gold_final.show(5,truncate=True)"
   ]
  },
  {
   "cell_type": "code",
   "execution_count": 8,
   "id": "65efc695-e1a4-430f-afe5-8f3a0be34570",
   "metadata": {},
   "outputs": [
    {
     "name": "stdout",
     "output_type": "stream",
     "text": [
      "Salvando tabela gold em formato parquet em:/app/data/gold/amazon_reviews_ennriched_features\n"
     ]
    },
    {
     "name": "stderr",
     "output_type": "stream",
     "text": [
      "                                                                                "
     ]
    },
    {
     "name": "stdout",
     "output_type": "stream",
     "text": [
      "Tabela Gold salva com sucesso em /app/data/gold/amazon_reviews_ennriched_features\n"
     ]
    }
   ],
   "source": [
    "#Salvando minha tabela gold como parquet\n",
    "gold_output_path = \"/app/data/gold/amazon_reviews_ennriched_features\"\n",
    "\n",
    "print(f\"Salvando tabela gold em formato parquet em:{gold_output_path}\")\n",
    "\n",
    "df_gold_final.write.mode(\"overwrite\").format(\"parquet\").save(gold_output_path)\n",
    "print(f\"Tabela Gold salva com sucesso em {gold_output_path}\")\n"
   ]
  },
  {
   "cell_type": "code",
   "execution_count": 9,
   "id": "d737de28-8006-4cc9-bee1-889213cd0e0c",
   "metadata": {},
   "outputs": [],
   "source": [
    "spark.stop()"
   ]
  },
  {
   "cell_type": "code",
   "execution_count": null,
   "id": "872a2edf-66e6-45a6-806d-0fc1840ed8fb",
   "metadata": {},
   "outputs": [],
   "source": []
  },
  {
   "cell_type": "code",
   "execution_count": null,
   "id": "69a44c2a-3b80-4666-9942-a2dbe423fe98",
   "metadata": {},
   "outputs": [],
   "source": []
  },
  {
   "cell_type": "code",
   "execution_count": null,
   "id": "c81d1186-5049-446d-92d1-ad24cba23d6f",
   "metadata": {},
   "outputs": [],
   "source": []
  },
  {
   "cell_type": "code",
   "execution_count": null,
   "id": "f3d9c6a3-e324-47bc-88cf-0c08d70a8aaf",
   "metadata": {},
   "outputs": [],
   "source": []
  }
 ],
 "metadata": {
  "kernelspec": {
   "display_name": "Python 3 (ipykernel)",
   "language": "python",
   "name": "python3"
  },
  "language_info": {
   "codemirror_mode": {
    "name": "ipython",
    "version": 3
   },
   "file_extension": ".py",
   "mimetype": "text/x-python",
   "name": "python",
   "nbconvert_exporter": "python",
   "pygments_lexer": "ipython3",
   "version": "3.9.2"
  }
 },
 "nbformat": 4,
 "nbformat_minor": 5
}
